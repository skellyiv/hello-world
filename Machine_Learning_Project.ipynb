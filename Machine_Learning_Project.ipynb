{
 "cells": [
  {
   "cell_type": "code",
   "execution_count": null,
   "metadata": {
    "collapsed": false
   },
   "outputs": [],
   "source": [
    "data <- read.csv(\"C:/Users/Sean/Desktop/courseworkdata.csv\")  # Read CSV file into R"
   ]
  },
  {
   "cell_type": "code",
   "execution_count": null,
   "metadata": {
    "collapsed": false
   },
   "outputs": [],
   "source": [
    "install.packages('MASS', repos=\"http://cran.us.r-project.org\")\n",
    "library(MASS)  # Load package required for mvrnorm function\n",
    "install.packages('reshape2', repos=\"http://cran.us.r-project.org\")\n",
    "library(reshape2)  # Load package required for melt function"
   ]
  },
  {
   "cell_type": "code",
   "execution_count": null,
   "metadata": {
    "collapsed": true
   },
   "outputs": [],
   "source": [
    "e <- data$touchX[1:300] - data$targetX[1:300]  # Define offset for X coordinates \n",
    "f <- data$touchY[1:300] - data$targetY[1:300]  # Define offset for Y coordinates \n",
    "z <- c(e, f)  # Combine offset values for Subject15-iPhone4 into single vector"
   ]
  },
  {
   "cell_type": "code",
   "execution_count": null,
   "metadata": {
    "collapsed": true
   },
   "outputs": [],
   "source": [
    "CalculateCovariance <- function(X1, X2, l=1) {\n",
    "  sigma <- matrix(rep(0, length(X1) * length(X2)), nrow=length(X1))\n",
    "  alpha <- 0.3\n",
    "  for (i in 1:300) {\n",
    "    for (j in 1:300) {\n",
    "      sigma[i, j] <- exp(-10 * (abs(X1[i] - X2[j]) / l)^2)  # Squared exponential kernel function\n",
    "    }\n",
    "  }\n",
    "  for (i in 301:600) {\n",
    "    for (j in 301:600) {\n",
    "      sigma[i, j] <- exp(-10 * (abs(X1[i] - X2[j]) / l)^2)\n",
    "    }\n",
    "  }\n",
    "  for (i in 1:300) {\n",
    "    for (j in 301:600) {\n",
    "      sigma[i, j] <- exp(-10 * (abs(X1[i]-  X2[j]) / l)^2) * alpha\n",
    "    }\n",
    "  }\n",
    "  for (i in 301:600) {\n",
    "    for (j in 1:300) {\n",
    "      sigma[i, j] <- exp(-10 * (abs(X1[i] - X2[j]) / l)^2) * alpha\n",
    "    }\n",
    "  }\n",
    "  return(sigma)\n",
    "}\n",
    "# Function CalculateCovariance returns the covariance matrix "
   ]
  },
  {
   "cell_type": "code",
   "execution_count": null,
   "metadata": {
    "collapsed": true
   },
   "outputs": [],
   "source": [
    "sigma.one <- CalculateCovariance(z, z)  # Define covariance matrix for training data"
   ]
  },
  {
   "cell_type": "code",
   "execution_count": null,
   "metadata": {
    "collapsed": true
   },
   "outputs": [],
   "source": [
    "gaussian.noise <- 0.1  # Define additive Gaussian noise"
   ]
  },
  {
   "cell_type": "code",
   "execution_count": null,
   "metadata": {
    "collapsed": true
   },
   "outputs": [],
   "source": [
    "gp.mean.one <- sigma.one %*% solve(sigma.one + gaussian.noise^2 * diag(1, ncol(sigma.one))) %*% z\n",
    "gp.covariance.one <- sigma.one - sigma.one %*% solve(sigma.one + gaussian.noise^2 * diag(1, ncol(sigma.one))) %*% sigma.one\n",
    "# Define mean function and covariance function for training data"
   ]
  },
  {
   "cell_type": "code",
   "execution_count": null,
   "metadata": {
    "collapsed": true
   },
   "outputs": [],
   "source": [
    "n.samples <- 10  # Define the number of samples for the experiment"
   ]
  },
  {
   "cell_type": "code",
   "execution_count": null,
   "metadata": {
    "collapsed": false
   },
   "outputs": [],
   "source": [
    "values.one <- matrix(rep(0, length(z) * n.samples), ncol=n.samples)\n",
    "for (i in 1:n.samples) {\n",
    "  values.one[, i] <- mvrnorm(1, gp.mean.one, gp.covariance.one)\n",
    "}\n",
    "values.one <- cbind(x=z, as.data.frame(values.one))\n",
    "values.one <- melt(values.one, id=\"x\")\n",
    "print(values.one)\n",
    "# Generate sample values for the training data"
   ]
  },
  {
   "cell_type": "code",
   "execution_count": null,
   "metadata": {
    "collapsed": true
   },
   "outputs": [],
   "source": [
    "g <- data$touchX[301:600] - data$targetX[301:600]  # Define offset for X coordinates \n",
    "h <- data$touchY[301:600] - data$targetX[301:600]  # Define offset for Y coordinates\n",
    "s.star <- c(g, h)  # Combine offset coordinates for Subject15-N9 into single vector"
   ]
  },
  {
   "cell_type": "code",
   "execution_count": null,
   "metadata": {
    "collapsed": true
   },
   "outputs": [],
   "source": [
    "sigma.two <- CalculateCovariance(z, s.star)\n",
    "sigma.three <- CalculateCovariance(s.star, z)\n",
    "sigma.four <- CalculateCovariance(s.star, s.star)\n",
    "# Define covariance matrix for the new set of input values and the input vector for the training data"
   ]
  },
  {
   "cell_type": "code",
   "execution_count": null,
   "metadata": {
    "collapsed": true
   },
   "outputs": [],
   "source": [
    "gp.mean.two <- sigma.three %*% solve(sigma.one + gaussian.noise^2 * diag(1, ncol(sigma.one))) %*% z\n",
    "gp.covariance.two <- sigma.four - sigma.three %*% solve(sigma.one + gaussian.noise^2 * diag(1, ncol(sigma.one))) %*% sigma.two\n",
    "# Define mean function and covariance function for new set of input values"
   ]
  },
  {
   "cell_type": "code",
   "execution_count": null,
   "metadata": {
    "collapsed": false
   },
   "outputs": [],
   "source": [
    "values.two <- matrix(rep(0, length(s.star) * n.samples), ncol=n.samples)\n",
    "for (i in 1:n.samples) {\n",
    "  values.two[, i] <- mvrnorm(1, gp.mean.two, gp.covariance.two)\n",
    "}\n",
    "values.two <- cbind(x=s.star, as.data.frame(values.two))\n",
    "values.two <- melt(values.two, id=\"x\")\n",
    "print(values.two)\n",
    "# Generate sample values for the new set of input values"
   ]
  },
  {
   "cell_type": "code",
   "execution_count": null,
   "metadata": {
    "collapsed": false
   },
   "outputs": [],
   "source": [
    "figure1 <- plot(values.one$value ~ values.one$x, xlab=\"Input\", ylab=\"Output\", main=\"Subject15-iPhone4 Touch Accuracy\")\n",
    "figure2 <- plot(values.two$value ~ values.two$x, xlab=\"Input\", ylab=\"Output\", main=\"Subject15-N9 Touch Accuracy\")"
   ]
  }
 ],
 "metadata": {
  "kernelspec": {
   "display_name": "R",
   "language": "R",
   "name": "ir"
  },
  "language_info": {
   "codemirror_mode": "r",
   "file_extension": ".r",
   "mimetype": "text/x-r-source",
   "name": "R",
   "pygments_lexer": "r",
   "version": "3.1.3"
  }
 },
 "nbformat": 4,
 "nbformat_minor": 0
}
